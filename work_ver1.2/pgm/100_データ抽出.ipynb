{
 "cells": [
  {
   "cell_type": "markdown",
   "id": "b8c5f58c-9fe5-4224-a74f-3abc9b81b481",
   "metadata": {},
   "source": [
    "# 基本設定"
   ]
  },
  {
   "cell_type": "code",
   "execution_count": 1,
   "id": "8ba069ac-b6e6-4a9c-848c-f881e33bf4fd",
   "metadata": {},
   "outputs": [],
   "source": [
    "import setting\n",
    "\n",
    "import os\n",
    "import pandas as pd\n",
    "import psycopg2\n",
    "import pathlib as Path\n",
    "\n",
    "pgconfig = {\n",
    "    'host': 'db',\n",
    "    'port': os.environ['PG_PORT'],\n",
    "    'database': os.environ['PG_DATABASE'],\n",
    "    'user': os.environ['PG_USER'],\n",
    "    'password': os.environ['PG_PASSWORD'],\n",
    "}\n",
    "\n",
    "# pd.read_sql用のコネクタ\n",
    "conn = psycopg2.connect(**pgconfig)\n",
    "\n",
    "# データ格納先設定\n",
    "data_path = Path.Path('../data')\n",
    "# 接頭辞\n",
    "prefix = 'ana100'"
   ]
  },
  {
   "cell_type": "code",
   "execution_count": 2,
   "id": "94893ada-03b9-48a0-934e-3c9bed48f9d4",
   "metadata": {},
   "outputs": [
    {
     "name": "stdout",
     "output_type": "stream",
     "text": [
      "Requirement already satisfied: japanize_matplotlib in /opt/conda/lib/python3.9/site-packages (1.1.3)\n",
      "Requirement already satisfied: matplotlib in /opt/conda/lib/python3.9/site-packages (from japanize_matplotlib) (3.4.3)\n",
      "Requirement already satisfied: cycler>=0.10 in /opt/conda/lib/python3.9/site-packages (from matplotlib->japanize_matplotlib) (0.10.0)\n",
      "Requirement already satisfied: pillow>=6.2.0 in /opt/conda/lib/python3.9/site-packages (from matplotlib->japanize_matplotlib) (8.3.2)\n",
      "Requirement already satisfied: kiwisolver>=1.0.1 in /opt/conda/lib/python3.9/site-packages (from matplotlib->japanize_matplotlib) (1.3.2)\n",
      "Requirement already satisfied: python-dateutil>=2.7 in /opt/conda/lib/python3.9/site-packages (from matplotlib->japanize_matplotlib) (2.8.2)\n",
      "Requirement already satisfied: pyparsing>=2.2.1 in /opt/conda/lib/python3.9/site-packages (from matplotlib->japanize_matplotlib) (2.4.7)\n",
      "Requirement already satisfied: numpy>=1.16 in /opt/conda/lib/python3.9/site-packages (from matplotlib->japanize_matplotlib) (1.21.1)\n",
      "Requirement already satisfied: six in /opt/conda/lib/python3.9/site-packages (from cycler>=0.10->matplotlib->japanize_matplotlib) (1.16.0)\n"
     ]
    }
   ],
   "source": [
    "!pip install japanize_matplotlib"
   ]
  },
  {
   "cell_type": "markdown",
   "id": "7182d39c-2a00-4775-84e5-1bd2e12316ec",
   "metadata": {},
   "source": [
    "# データ抽出"
   ]
  },
  {
   "cell_type": "code",
   "execution_count": 3,
   "id": "447d8043-7dc8-48f4-812f-ffdb0cb01b52",
   "metadata": {},
   "outputs": [],
   "source": [
    "df_customer = pd.read_sql(sql='select * from customer', con=conn)\n",
    "df_category = pd.read_sql(sql='select * from category', con=conn)\n",
    "df_product = pd.read_sql(sql='select * from product', con=conn)\n",
    "df_receipt = pd.read_sql(sql='select * from receipt', con=conn)\n",
    "df_store = pd.read_sql(sql='select * from store', con=conn)\n",
    "df_geocode = pd.read_sql(sql='select * from geocode', con=conn)"
   ]
  },
  {
   "cell_type": "markdown",
   "id": "2ab797ee-bc47-400e-9b4e-e105350cde1a",
   "metadata": {},
   "source": [
    "　"
   ]
  },
  {
   "cell_type": "markdown",
   "id": "1633b3c2-8d87-4db8-86af-5c7c6ae82a58",
   "metadata": {},
   "source": [
    "# データ保存（pickle形式）"
   ]
  },
  {
   "cell_type": "code",
   "execution_count": 4,
   "id": "e71d00ce-a88a-484c-a0b2-7b7e04f7be57",
   "metadata": {},
   "outputs": [],
   "source": [
    "df_customer.to_pickle(data_path / 'df_customer.pkl')\n",
    "df_category.to_pickle(data_path / 'df_category.pkl')\n",
    "df_product.to_pickle(data_path / 'df_product.pkl')\n",
    "df_receipt.to_pickle(data_path / 'df_receipt.pkl')\n",
    "df_store.to_pickle(data_path / 'df_store.pkl')\n",
    "df_geocode.to_pickle(data_path / 'df_geocode.pkl')"
   ]
  }
 ],
 "metadata": {
  "kernelspec": {
   "display_name": "Python 3 (ipykernel)",
   "language": "python",
   "name": "python3"
  },
  "language_info": {
   "codemirror_mode": {
    "name": "ipython",
    "version": 3
   },
   "file_extension": ".py",
   "mimetype": "text/x-python",
   "name": "python",
   "nbconvert_exporter": "python",
   "pygments_lexer": "ipython3",
   "version": "3.9.6"
  }
 },
 "nbformat": 4,
 "nbformat_minor": 5
}
