{
 "cells": [
  {
   "cell_type": "markdown",
   "id": "b8c5f58c-9fe5-4224-a74f-3abc9b81b481",
   "metadata": {},
   "source": [
    "# 基本設定"
   ]
  },
  {
   "cell_type": "code",
   "execution_count": 1,
   "id": "8ba069ac-b6e6-4a9c-848c-f881e33bf4fd",
   "metadata": {},
   "outputs": [],
   "source": [
    "import setting\n",
    "\n",
    "import pandas as pd\n",
    "import numpy as np\n",
    "import math\n",
    "import pathlib as Path\n",
    "\n",
    "import scipy as sc\n",
    "import sklearn\n",
    "import pickle\n",
    "import matplotlib.pyplot as plt\n",
    "import japanize_matplotlib\n",
    "import seaborn as sb\n",
    "sb.set(font='IPAexGothic')\n",
    "\n",
    "# データ格納先設定\n",
    "data_path = Path.Path('../data')\n",
    "# 接頭辞\n",
    "prefix = 'ana101'"
   ]
  },
  {
   "cell_type": "markdown",
   "id": "7182d39c-2a00-4775-84e5-1bd2e12316ec",
   "metadata": {},
   "source": [
    "# データ抽出\n",
    "> 顧客情報（df_customer.pkl）\n",
    "> 決済情報（df_receipt.pkl）"
   ]
  },
  {
   "cell_type": "code",
   "execution_count": 2,
   "id": "447d8043-7dc8-48f4-812f-ffdb0cb01b52",
   "metadata": {},
   "outputs": [],
   "source": [
    "# 顧客情報\n",
    "df_customer = pd.read_pickle(data_path / 'df_customer.pkl')\n",
    "# 決済情報\n",
    "df_receipt = pd.read_pickle(data_path / 'df_receipt.pkl')"
   ]
  },
  {
   "cell_type": "markdown",
   "id": "babe3f62-54f3-45cc-ba45-a6d2fee8611e",
   "metadata": {},
   "source": [
    "　"
   ]
  },
  {
   "cell_type": "markdown",
   "id": "d6e00e7e-8189-4b5d-855c-11cd50a1eb60",
   "metadata": {},
   "source": [
    "# 名寄せ処理\n",
    "> 顧客名, 住所（昇順）、合計金額（降順）、顧客ＩＤ（昇順）"
   ]
  },
  {
   "cell_type": "code",
   "execution_count": 3,
   "id": "d856ebac-ec93-41f4-8989-7edb621aaa4f",
   "metadata": {},
   "outputs": [],
   "source": [
    "# 顧客情報に売上金額合計を結合\n",
    "key = ['customer_id']\n",
    "\n",
    "_df = df_customer[['customer_name', 'address', 'customer_id']].merge(\n",
    "    \n",
    "    df_receipt[key + ['amount']].groupby(key)['amount'].agg([('sum_amt', 'sum')]),\n",
    "    \n",
    "    on=key, \n",
    "    how='left'\n",
    "    \n",
    "# 売上実績なし先は0円\n",
    ").fillna({'sum_amt':0}).sort_values(\n",
    "    \n",
    "    ['customer_name', 'address', 'sum_amt', 'customer_id'], ascending=[True, True, False, True]\n",
    " \n",
    "# 重複削除\n",
    ").drop_duplicates(['customer_name', 'address'])"
   ]
  },
  {
   "cell_type": "code",
   "execution_count": 4,
   "id": "cd6c88e6-e5a5-47ac-8ad9-f9e01c047c2c",
   "metadata": {},
   "outputs": [
    {
     "name": "stdout",
     "output_type": "stream",
     "text": [
      "(21971, 11) (21941, 4)\n"
     ]
    }
   ],
   "source": [
    "print(df_customer.shape, _df.shape)"
   ]
  },
  {
   "cell_type": "code",
   "execution_count": 5,
   "id": "8a2a6f8f-4acb-467e-a453-a74b174a68f4",
   "metadata": {},
   "outputs": [],
   "source": [
    "# 名寄せ顧客IDを付与\n",
    "key = ['customer_name', 'address']\n",
    "\n",
    "_cus = df_customer.merge(\n",
    "    \n",
    "    # 結合キー + 名寄せ顧客ID\n",
    "    _df[key + ['customer_id']].rename(columns={'customer_id':'customer_id_nys'}), \n",
    "    on=key, \n",
    "    how='left'\n",
    "\n",
    "# 列順を成形\n",
    ")[['customer_id_nys'] + [i for i in df_customer.columns]]"
   ]
  },
  {
   "cell_type": "code",
   "execution_count": 6,
   "id": "351d15e4-5412-4691-86a6-84362cb41c86",
   "metadata": {},
   "outputs": [
    {
     "data": {
      "text/html": [
       "<div>\n",
       "<style scoped>\n",
       "    .dataframe tbody tr th:only-of-type {\n",
       "        vertical-align: middle;\n",
       "    }\n",
       "\n",
       "    .dataframe tbody tr th {\n",
       "        vertical-align: top;\n",
       "    }\n",
       "\n",
       "    .dataframe thead th {\n",
       "        text-align: right;\n",
       "    }\n",
       "</style>\n",
       "<table border=\"1\" class=\"dataframe\">\n",
       "  <thead>\n",
       "    <tr style=\"text-align: right;\">\n",
       "      <th></th>\n",
       "      <th>customer_id_nys</th>\n",
       "      <th>customer_id</th>\n",
       "      <th>customer_name</th>\n",
       "      <th>gender_cd</th>\n",
       "      <th>gender</th>\n",
       "      <th>birth_day</th>\n",
       "      <th>age</th>\n",
       "      <th>postal_cd</th>\n",
       "      <th>address</th>\n",
       "      <th>application_store_cd</th>\n",
       "      <th>application_date</th>\n",
       "      <th>status_cd</th>\n",
       "    </tr>\n",
       "  </thead>\n",
       "  <tbody>\n",
       "    <tr>\n",
       "      <th>0</th>\n",
       "      <td>CS021313000114</td>\n",
       "      <td>CS021313000114</td>\n",
       "      <td>大野 あや子</td>\n",
       "      <td>1</td>\n",
       "      <td>女性</td>\n",
       "      <td>1981-04-29</td>\n",
       "      <td>37</td>\n",
       "      <td>259-1113</td>\n",
       "      <td>神奈川県伊勢原市粟窪**********</td>\n",
       "      <td>S14021</td>\n",
       "      <td>20150905</td>\n",
       "      <td>0-00000000-0</td>\n",
       "    </tr>\n",
       "    <tr>\n",
       "      <th>1</th>\n",
       "      <td>CS037613000071</td>\n",
       "      <td>CS037613000071</td>\n",
       "      <td>六角 雅彦</td>\n",
       "      <td>9</td>\n",
       "      <td>不明</td>\n",
       "      <td>1952-04-01</td>\n",
       "      <td>66</td>\n",
       "      <td>136-0076</td>\n",
       "      <td>東京都江東区南砂**********</td>\n",
       "      <td>S13037</td>\n",
       "      <td>20150414</td>\n",
       "      <td>0-00000000-0</td>\n",
       "    </tr>\n",
       "    <tr>\n",
       "      <th>2</th>\n",
       "      <td>CS031415000172</td>\n",
       "      <td>CS031415000172</td>\n",
       "      <td>宇多田 貴美子</td>\n",
       "      <td>1</td>\n",
       "      <td>女性</td>\n",
       "      <td>1976-10-04</td>\n",
       "      <td>42</td>\n",
       "      <td>151-0053</td>\n",
       "      <td>東京都渋谷区代々木**********</td>\n",
       "      <td>S13031</td>\n",
       "      <td>20150529</td>\n",
       "      <td>D-20100325-C</td>\n",
       "    </tr>\n",
       "    <tr>\n",
       "      <th>3</th>\n",
       "      <td>CS028811000001</td>\n",
       "      <td>CS028811000001</td>\n",
       "      <td>堀井 かおり</td>\n",
       "      <td>1</td>\n",
       "      <td>女性</td>\n",
       "      <td>1933-03-27</td>\n",
       "      <td>86</td>\n",
       "      <td>245-0016</td>\n",
       "      <td>神奈川県横浜市泉区和泉町**********</td>\n",
       "      <td>S14028</td>\n",
       "      <td>20160115</td>\n",
       "      <td>0-00000000-0</td>\n",
       "    </tr>\n",
       "    <tr>\n",
       "      <th>4</th>\n",
       "      <td>CS001215000145</td>\n",
       "      <td>CS001215000145</td>\n",
       "      <td>田崎 美紀</td>\n",
       "      <td>1</td>\n",
       "      <td>女性</td>\n",
       "      <td>1995-03-29</td>\n",
       "      <td>24</td>\n",
       "      <td>144-0055</td>\n",
       "      <td>東京都大田区仲六郷**********</td>\n",
       "      <td>S13001</td>\n",
       "      <td>20170605</td>\n",
       "      <td>6-20090929-2</td>\n",
       "    </tr>\n",
       "  </tbody>\n",
       "</table>\n",
       "</div>"
      ],
      "text/plain": [
       "  customer_id_nys     customer_id customer_name gender_cd gender   birth_day  \\\n",
       "0  CS021313000114  CS021313000114        大野 あや子         1     女性  1981-04-29   \n",
       "1  CS037613000071  CS037613000071         六角 雅彦         9     不明  1952-04-01   \n",
       "2  CS031415000172  CS031415000172       宇多田 貴美子         1     女性  1976-10-04   \n",
       "3  CS028811000001  CS028811000001        堀井 かおり         1     女性  1933-03-27   \n",
       "4  CS001215000145  CS001215000145         田崎 美紀         1     女性  1995-03-29   \n",
       "\n",
       "   age postal_cd                 address application_store_cd  \\\n",
       "0   37  259-1113    神奈川県伊勢原市粟窪**********               S14021   \n",
       "1   66  136-0076      東京都江東区南砂**********               S13037   \n",
       "2   42  151-0053     東京都渋谷区代々木**********               S13031   \n",
       "3   86  245-0016  神奈川県横浜市泉区和泉町**********               S14028   \n",
       "4   24  144-0055     東京都大田区仲六郷**********               S13001   \n",
       "\n",
       "  application_date     status_cd  \n",
       "0         20150905  0-00000000-0  \n",
       "1         20150414  0-00000000-0  \n",
       "2         20150529  D-20100325-C  \n",
       "3         20160115  0-00000000-0  \n",
       "4         20170605  6-20090929-2  "
      ]
     },
     "execution_count": 6,
     "metadata": {},
     "output_type": "execute_result"
    }
   ],
   "source": [
    "_cus.head()"
   ]
  },
  {
   "cell_type": "markdown",
   "id": "e8037ee0-cb10-464b-869f-e0acb20acad7",
   "metadata": {},
   "source": [
    "# データ保存"
   ]
  },
  {
   "cell_type": "code",
   "execution_count": 7,
   "id": "f1fa9a2a-b895-418a-a829-d5af3e1ea11b",
   "metadata": {},
   "outputs": [],
   "source": [
    "_cus.to_pickle(data_path / ('%s_df_customer_nys.pkl' % prefix))"
   ]
  }
 ],
 "metadata": {
  "kernelspec": {
   "display_name": "Python 3 (ipykernel)",
   "language": "python",
   "name": "python3"
  },
  "language_info": {
   "codemirror_mode": {
    "name": "ipython",
    "version": 3
   },
   "file_extension": ".py",
   "mimetype": "text/x-python",
   "name": "python",
   "nbconvert_exporter": "python",
   "pygments_lexer": "ipython3",
   "version": "3.9.6"
  }
 },
 "nbformat": 4,
 "nbformat_minor": 5
}
