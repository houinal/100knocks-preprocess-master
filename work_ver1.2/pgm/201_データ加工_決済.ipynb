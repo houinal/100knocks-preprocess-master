{
 "cells": [
  {
   "cell_type": "markdown",
   "id": "b8c5f58c-9fe5-4224-a74f-3abc9b81b481",
   "metadata": {},
   "source": [
    "# 基本設定"
   ]
  },
  {
   "cell_type": "code",
   "execution_count": 1,
   "id": "8ba069ac-b6e6-4a9c-848c-f881e33bf4fd",
   "metadata": {},
   "outputs": [],
   "source": [
    "import setting\n",
    "\n",
    "import pandas as pd\n",
    "import numpy as np\n",
    "import math\n",
    "import pathlib as Path\n",
    "\n",
    "import scipy as sc\n",
    "import sklearn\n",
    "import pickle\n",
    "import matplotlib.pyplot as plt\n",
    "import japanize_matplotlib\n",
    "import seaborn as sb\n",
    "sb.set(font='IPAexGothic')\n",
    "\n",
    "# データ格納先設定\n",
    "data_path = Path.Path('../data')\n",
    "# 接頭辞\n",
    "prefix = 'ana201'"
   ]
  },
  {
   "cell_type": "markdown",
   "id": "7182d39c-2a00-4775-84e5-1bd2e12316ec",
   "metadata": {},
   "source": [
    "# データ抽出\n",
    "> 決済情報（df_receipt.pkl）\\\n",
    "> 商品情報（df_product）\\\n",
    "> カテゴリ情報（df_category)\\\n",
    "> 顧客情報（名寄せ用）\\"
   ]
  },
  {
   "cell_type": "code",
   "execution_count": 2,
   "id": "447d8043-7dc8-48f4-812f-ffdb0cb01b52",
   "metadata": {},
   "outputs": [],
   "source": [
    "# 決済情報\n",
    "df_receipt = pd.read_pickle(data_path / 'df_receipt.pkl')\n",
    "\n",
    "# 商品情報\n",
    "df_product = pd.read_pickle(data_path / 'df_product.pkl')\n",
    "\n",
    "# カテゴリ情報\n",
    "df_category = pd.read_pickle(data_path / 'df_category.pkl')\n",
    "\n",
    "# 顧客情報（名寄せ）\n",
    "df_customer = pd.read_pickle(data_path / 'ana101_df_customer_nys.pkl')"
   ]
  },
  {
   "cell_type": "markdown",
   "id": "babe3f62-54f3-45cc-ba45-a6d2fee8611e",
   "metadata": {},
   "source": [
    "　"
   ]
  },
  {
   "cell_type": "markdown",
   "id": "0b0ca2d6-e592-4001-8032-906bb05657b7",
   "metadata": {},
   "source": [
    "# データ結合"
   ]
  },
  {
   "cell_type": "code",
   "execution_count": 3,
   "id": "9343a94a-1ea2-4610-8f66-76fb060276fb",
   "metadata": {},
   "outputs": [
    {
     "data": {
      "text/plain": [
       "(65682, 12)"
      ]
     },
     "execution_count": 3,
     "metadata": {},
     "output_type": "execute_result"
    }
   ],
   "source": [
    "# 決済 + （商品 + カテゴリ）\n",
    "df = df_receipt[\n",
    "\n",
    "    # 非会員を除外\n",
    "    ~df_receipt['customer_id'].str.startswith('Z')\n",
    "\n",
    "].merge(\n",
    "    \n",
    "    # 商品コード + カテゴリコード(category_small_cd)\n",
    "    df_product[['product_cd', 'category_small_cd']].merge(\n",
    "        \n",
    "        # カテゴリコード + カテゴリ名\n",
    "        df_category[['category_small_cd', 'category_major_name', 'category_medium_name', 'category_small_name', ]],\n",
    "        on='category_small_cd',\n",
    "        how='inner'\n",
    "        \n",
    "    # カテゴリコードは要らない\n",
    "    ).drop('category_small_cd', axis=1),\n",
    "    \n",
    "    on='product_cd',\n",
    "    how='left'\n",
    "    \n",
    ")\n",
    "df.shape"
   ]
  },
  {
   "cell_type": "markdown",
   "id": "5c7ac109-5c2e-4036-b35a-c2726f63451a",
   "metadata": {},
   "source": [
    "# 名寄せ"
   ]
  },
  {
   "cell_type": "code",
   "execution_count": 4,
   "id": "3142997a-ce3a-4425-b70e-77676d45b94c",
   "metadata": {},
   "outputs": [],
   "source": [
    "df_nys = df.merge(df_customer[['customer_id', 'customer_id_nys']], on='customer_id', how='inner')"
   ]
  },
  {
   "cell_type": "markdown",
   "id": "26a0458a-619c-4b16-8d5d-e76ed825ffa0",
   "metadata": {},
   "source": [
    "　"
   ]
  },
  {
   "cell_type": "markdown",
   "id": "6cca1a83-68a0-44bc-af13-0411ed16572d",
   "metadata": {},
   "source": [
    "# データ加工"
   ]
  },
  {
   "cell_type": "code",
   "execution_count": 5,
   "id": "64fe5f39-45a5-48b1-b046-7a48a21be966",
   "metadata": {},
   "outputs": [
    {
     "data": {
      "text/html": [
       "<div>\n",
       "<style scoped>\n",
       "    .dataframe tbody tr th:only-of-type {\n",
       "        vertical-align: middle;\n",
       "    }\n",
       "\n",
       "    .dataframe tbody tr th {\n",
       "        vertical-align: top;\n",
       "    }\n",
       "\n",
       "    .dataframe thead th {\n",
       "        text-align: right;\n",
       "    }\n",
       "</style>\n",
       "<table border=\"1\" class=\"dataframe\">\n",
       "  <thead>\n",
       "    <tr style=\"text-align: right;\">\n",
       "      <th></th>\n",
       "      <th>sales_ymd</th>\n",
       "      <th>sales_epoch</th>\n",
       "      <th>store_cd</th>\n",
       "      <th>receipt_no</th>\n",
       "      <th>receipt_sub_no</th>\n",
       "      <th>customer_id</th>\n",
       "      <th>product_cd</th>\n",
       "      <th>quantity</th>\n",
       "      <th>amount</th>\n",
       "      <th>category_major_name</th>\n",
       "      <th>category_medium_name</th>\n",
       "      <th>category_small_name</th>\n",
       "      <th>customer_id_nys</th>\n",
       "      <th>sales_ym</th>\n",
       "      <th>sales_date</th>\n",
       "    </tr>\n",
       "  </thead>\n",
       "  <tbody>\n",
       "    <tr>\n",
       "      <th>0</th>\n",
       "      <td>2018-11-03</td>\n",
       "      <td>1541203200</td>\n",
       "      <td>S14006</td>\n",
       "      <td>112</td>\n",
       "      <td>1</td>\n",
       "      <td>CS006214000001</td>\n",
       "      <td>P070305012</td>\n",
       "      <td>1</td>\n",
       "      <td>158</td>\n",
       "      <td>瓶詰缶詰</td>\n",
       "      <td>和風調味料</td>\n",
       "      <td>砂糖・甘味料</td>\n",
       "      <td>CS006214000001</td>\n",
       "      <td>201811</td>\n",
       "      <td>5</td>\n",
       "    </tr>\n",
       "    <tr>\n",
       "      <th>1</th>\n",
       "      <td>2017-05-09</td>\n",
       "      <td>1494288000</td>\n",
       "      <td>S14006</td>\n",
       "      <td>112</td>\n",
       "      <td>1</td>\n",
       "      <td>CS006214000001</td>\n",
       "      <td>P071401004</td>\n",
       "      <td>1</td>\n",
       "      <td>1100</td>\n",
       "      <td>瓶詰缶詰</td>\n",
       "      <td>タバコ</td>\n",
       "      <td>タバコ</td>\n",
       "      <td>CS006214000001</td>\n",
       "      <td>201705</td>\n",
       "      <td>1</td>\n",
       "    </tr>\n",
       "    <tr>\n",
       "      <th>2</th>\n",
       "      <td>2017-06-08</td>\n",
       "      <td>1496880000</td>\n",
       "      <td>S14006</td>\n",
       "      <td>112</td>\n",
       "      <td>1</td>\n",
       "      <td>CS006214000001</td>\n",
       "      <td>P060104021</td>\n",
       "      <td>1</td>\n",
       "      <td>120</td>\n",
       "      <td>パン・乳製品</td>\n",
       "      <td>パン</td>\n",
       "      <td>その他パン</td>\n",
       "      <td>CS006214000001</td>\n",
       "      <td>201706</td>\n",
       "      <td>3</td>\n",
       "    </tr>\n",
       "    <tr>\n",
       "      <th>3</th>\n",
       "      <td>2017-06-08</td>\n",
       "      <td>1496880000</td>\n",
       "      <td>S14006</td>\n",
       "      <td>112</td>\n",
       "      <td>2</td>\n",
       "      <td>CS006214000001</td>\n",
       "      <td>P080403001</td>\n",
       "      <td>1</td>\n",
       "      <td>175</td>\n",
       "      <td>菓子</td>\n",
       "      <td>ビスケット</td>\n",
       "      <td>油菓子</td>\n",
       "      <td>CS006214000001</td>\n",
       "      <td>201706</td>\n",
       "      <td>3</td>\n",
       "    </tr>\n",
       "    <tr>\n",
       "      <th>4</th>\n",
       "      <td>2018-10-28</td>\n",
       "      <td>1540684800</td>\n",
       "      <td>S14006</td>\n",
       "      <td>112</td>\n",
       "      <td>2</td>\n",
       "      <td>CS006214000001</td>\n",
       "      <td>P050102004</td>\n",
       "      <td>1</td>\n",
       "      <td>188</td>\n",
       "      <td>和日配</td>\n",
       "      <td>水物</td>\n",
       "      <td>油揚げ・がんも</td>\n",
       "      <td>CS006214000001</td>\n",
       "      <td>201810</td>\n",
       "      <td>6</td>\n",
       "    </tr>\n",
       "  </tbody>\n",
       "</table>\n",
       "</div>"
      ],
      "text/plain": [
       "   sales_ymd  sales_epoch store_cd  receipt_no  receipt_sub_no  \\\n",
       "0 2018-11-03   1541203200   S14006         112               1   \n",
       "1 2017-05-09   1494288000   S14006         112               1   \n",
       "2 2017-06-08   1496880000   S14006         112               1   \n",
       "3 2017-06-08   1496880000   S14006         112               2   \n",
       "4 2018-10-28   1540684800   S14006         112               2   \n",
       "\n",
       "      customer_id  product_cd  quantity  amount category_major_name  \\\n",
       "0  CS006214000001  P070305012         1     158                瓶詰缶詰   \n",
       "1  CS006214000001  P071401004         1    1100                瓶詰缶詰   \n",
       "2  CS006214000001  P060104021         1     120              パン・乳製品   \n",
       "3  CS006214000001  P080403001         1     175                  菓子   \n",
       "4  CS006214000001  P050102004         1     188                 和日配   \n",
       "\n",
       "  category_medium_name category_small_name customer_id_nys sales_ym  \\\n",
       "0                和風調味料              砂糖・甘味料  CS006214000001   201811   \n",
       "1                  タバコ                 タバコ  CS006214000001   201705   \n",
       "2                   パン               その他パン  CS006214000001   201706   \n",
       "3                ビスケット                 油菓子  CS006214000001   201706   \n",
       "4                   水物             油揚げ・がんも  CS006214000001   201810   \n",
       "\n",
       "   sales_date  \n",
       "0           5  \n",
       "1           1  \n",
       "2           3  \n",
       "3           3  \n",
       "4           6  "
      ]
     },
     "execution_count": 5,
     "metadata": {},
     "output_type": "execute_result"
    }
   ],
   "source": [
    "# 決済年月日をdate型に変換\n",
    "df_nys['sales_ymd'] = pd.to_datetime(df_nys['sales_ymd'].astype('str'))\n",
    "\n",
    "# 決済年月を計算\n",
    "df_nys['sales_ym'] = df_nys['sales_ymd'].dt.strftime('%Y%m')\n",
    "\n",
    "# 決済曜日を計算\n",
    "# 月～日（0 ~ 6）\n",
    "df_nys['sales_date'] = df_nys['sales_ymd'].dt.weekday\n",
    "\n",
    "df_nys.head()"
   ]
  },
  {
   "cell_type": "markdown",
   "id": "fddb4472-601e-4331-a43c-73e00d7c510b",
   "metadata": {},
   "source": [
    "## 顧客×年月×購入曜日ごとに集約"
   ]
  },
  {
   "cell_type": "code",
   "execution_count": 6,
   "id": "71e82f27-85db-41b0-b258-10b16f2ff474",
   "metadata": {},
   "outputs": [
    {
     "name": "stdout",
     "output_type": "stream",
     "text": [
      "CPU times: user 31 s, sys: 646 ms, total: 31.7 s\n",
      "Wall time: 30.3 s\n"
     ]
    }
   ],
   "source": [
    "%%time\n",
    "# 集約関数を定義\n",
    "def f_grp(x):\n",
    "    d = {}\n",
    "    \n",
    "    # 売上金額合計\n",
    "    d['sum_amt'] = x['amount'].sum()\n",
    "    # 購入商品数\n",
    "    d['sum_qnt'] = x['quantity'].sum()\n",
    "    # 決済回数\n",
    "    # d['cnt_pay'] = x['customer_id_nys'].count()\n",
    "    \n",
    "    return pd.Series(d)\n",
    "    \n",
    "_rec  = pd.concat(\n",
    "    [\n",
    "        # 顧客×年月×曜日\n",
    "        df_nys.groupby(['customer_id_nys', 'sales_ym', 'sales_date']).apply(f_grp).reset_index(),\n",
    "        # 顧客×年月\n",
    "        df_nys.groupby(['customer_id_nys', 'sales_ym']).apply(f_grp).reset_index()\n",
    "        \n",
    "    ],axis=0\n",
    "    \n",
    "# 顧客×年月の曜日は全体合計\n",
    ").fillna({'sales_date':99}).astype({'sales_date':'Int64'}).sort_values(['customer_id_nys', 'sales_ym', 'sales_date'])"
   ]
  },
  {
   "cell_type": "code",
   "execution_count": 7,
   "id": "943f517a-164b-4e6e-a8fa-6db0781eb5ca",
   "metadata": {},
   "outputs": [
    {
     "data": {
      "text/html": [
       "<div>\n",
       "<style scoped>\n",
       "    .dataframe tbody tr th:only-of-type {\n",
       "        vertical-align: middle;\n",
       "    }\n",
       "\n",
       "    .dataframe tbody tr th {\n",
       "        vertical-align: top;\n",
       "    }\n",
       "\n",
       "    .dataframe thead th {\n",
       "        text-align: right;\n",
       "    }\n",
       "</style>\n",
       "<table border=\"1\" class=\"dataframe\">\n",
       "  <thead>\n",
       "    <tr style=\"text-align: right;\">\n",
       "      <th></th>\n",
       "      <th></th>\n",
       "      <th></th>\n",
       "      <th>sum_amt</th>\n",
       "      <th>sum_qnt</th>\n",
       "    </tr>\n",
       "    <tr>\n",
       "      <th>customer_id_nys</th>\n",
       "      <th>sales_ym</th>\n",
       "      <th>sales_date</th>\n",
       "      <th></th>\n",
       "      <th></th>\n",
       "    </tr>\n",
       "  </thead>\n",
       "  <tbody>\n",
       "    <tr>\n",
       "      <th rowspan=\"2\" valign=\"top\">CS001113000004</th>\n",
       "      <th rowspan=\"2\" valign=\"top\">201903</th>\n",
       "      <th>4</th>\n",
       "      <td>1298</td>\n",
       "      <td>2</td>\n",
       "    </tr>\n",
       "    <tr>\n",
       "      <th>99</th>\n",
       "      <td>1298</td>\n",
       "      <td>2</td>\n",
       "    </tr>\n",
       "    <tr>\n",
       "      <th rowspan=\"3\" valign=\"top\">CS001114000005</th>\n",
       "      <th rowspan=\"2\" valign=\"top\">201805</th>\n",
       "      <th>3</th>\n",
       "      <td>438</td>\n",
       "      <td>2</td>\n",
       "    </tr>\n",
       "    <tr>\n",
       "      <th>99</th>\n",
       "      <td>438</td>\n",
       "      <td>2</td>\n",
       "    </tr>\n",
       "    <tr>\n",
       "      <th>201907</th>\n",
       "      <th>2</th>\n",
       "      <td>188</td>\n",
       "      <td>2</td>\n",
       "    </tr>\n",
       "    <tr>\n",
       "      <th>...</th>\n",
       "      <th>...</th>\n",
       "      <th>...</th>\n",
       "      <td>...</td>\n",
       "      <td>...</td>\n",
       "    </tr>\n",
       "    <tr>\n",
       "      <th>CS051515000002</th>\n",
       "      <th>201910</th>\n",
       "      <th>99</th>\n",
       "      <td>265</td>\n",
       "      <td>2</td>\n",
       "    </tr>\n",
       "    <tr>\n",
       "      <th rowspan=\"2\" valign=\"top\">CS052212000002</th>\n",
       "      <th rowspan=\"2\" valign=\"top\">201910</th>\n",
       "      <th>3</th>\n",
       "      <td>192</td>\n",
       "      <td>2</td>\n",
       "    </tr>\n",
       "    <tr>\n",
       "      <th>99</th>\n",
       "      <td>192</td>\n",
       "      <td>2</td>\n",
       "    </tr>\n",
       "    <tr>\n",
       "      <th rowspan=\"2\" valign=\"top\">CS052514000001</th>\n",
       "      <th rowspan=\"2\" valign=\"top\">201908</th>\n",
       "      <th>3</th>\n",
       "      <td>178</td>\n",
       "      <td>2</td>\n",
       "    </tr>\n",
       "    <tr>\n",
       "      <th>99</th>\n",
       "      <td>178</td>\n",
       "      <td>2</td>\n",
       "    </tr>\n",
       "  </tbody>\n",
       "</table>\n",
       "<p>61246 rows × 2 columns</p>\n",
       "</div>"
      ],
      "text/plain": [
       "                                     sum_amt  sum_qnt\n",
       "customer_id_nys sales_ym sales_date                  \n",
       "CS001113000004  201903   4              1298        2\n",
       "                         99             1298        2\n",
       "CS001114000005  201805   3               438        2\n",
       "                         99              438        2\n",
       "                201907   2               188        2\n",
       "...                                      ...      ...\n",
       "CS051515000002  201910   99              265        2\n",
       "CS052212000002  201910   3               192        2\n",
       "                         99              192        2\n",
       "CS052514000001  201908   3               178        2\n",
       "                         99              178        2\n",
       "\n",
       "[61246 rows x 2 columns]"
      ]
     },
     "execution_count": 7,
     "metadata": {},
     "output_type": "execute_result"
    }
   ],
   "source": [
    "# 顧客単位に横持\n",
    "fix_rec = _rec.set_index(['customer_id_nys', 'sales_ym', 'sales_date'])\n",
    "fix_rec"
   ]
  },
  {
   "cell_type": "markdown",
   "id": "89c5a21b-be72-4fbc-ba93-800c37c9c8b8",
   "metadata": {},
   "source": [
    "　\n",
    " "
   ]
  },
  {
   "cell_type": "markdown",
   "id": "cd562a3e-b882-4a05-b4f8-f8d84073368c",
   "metadata": {},
   "source": [
    "# データ保存"
   ]
  },
  {
   "cell_type": "code",
   "execution_count": 8,
   "id": "c9a2898e-ae14-4fe8-bf7d-73219af67a49",
   "metadata": {},
   "outputs": [],
   "source": [
    "fix_rec.to_pickle(data_path / ('%s_fix_rec.pkl' % prefix))"
   ]
  }
 ],
 "metadata": {
  "kernelspec": {
   "display_name": "Python 3 (ipykernel)",
   "language": "python",
   "name": "python3"
  },
  "language_info": {
   "codemirror_mode": {
    "name": "ipython",
    "version": 3
   },
   "file_extension": ".py",
   "mimetype": "text/x-python",
   "name": "python",
   "nbconvert_exporter": "python",
   "pygments_lexer": "ipython3",
   "version": "3.9.6"
  }
 },
 "nbformat": 4,
 "nbformat_minor": 5
}
