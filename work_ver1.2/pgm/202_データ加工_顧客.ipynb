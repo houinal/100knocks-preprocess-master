{
 "cells": [
  {
   "cell_type": "markdown",
   "id": "b8c5f58c-9fe5-4224-a74f-3abc9b81b481",
   "metadata": {},
   "source": [
    "# 基本設定"
   ]
  },
  {
   "cell_type": "code",
   "execution_count": 1,
   "id": "8ba069ac-b6e6-4a9c-848c-f881e33bf4fd",
   "metadata": {},
   "outputs": [],
   "source": [
    "import setting\n",
    "\n",
    "import pandas as pd\n",
    "import numpy as np\n",
    "import math\n",
    "import pathlib as Path\n",
    "\n",
    "import scipy as sc\n",
    "import sklearn\n",
    "import pickle\n",
    "import matplotlib.pyplot as plt\n",
    "import japanize_matplotlib\n",
    "import seaborn as sb\n",
    "sb.set(font='IPAexGothic')\n",
    "\n",
    "# データ格納先設定\n",
    "data_path = Path.Path('../data')\n",
    "# 接頭辞\n",
    "prefix = 'ana202'"
   ]
  },
  {
   "cell_type": "markdown",
   "id": "7182d39c-2a00-4775-84e5-1bd2e12316ec",
   "metadata": {},
   "source": [
    "# データ抽出\n",
    "> 顧客情報（名寄せ用）\\"
   ]
  },
  {
   "cell_type": "code",
   "execution_count": 2,
   "id": "447d8043-7dc8-48f4-812f-ffdb0cb01b52",
   "metadata": {},
   "outputs": [],
   "source": [
    "# 顧客情報（名寄せ）\n",
    "df_customer = pd.read_pickle(data_path / 'ana101_df_customer_nys.pkl')"
   ]
  },
  {
   "cell_type": "markdown",
   "id": "babe3f62-54f3-45cc-ba45-a6d2fee8611e",
   "metadata": {},
   "source": [
    "　"
   ]
  },
  {
   "cell_type": "markdown",
   "id": "6cca1a83-68a0-44bc-af13-0411ed16572d",
   "metadata": {},
   "source": [
    "# データ加工"
   ]
  },
  {
   "cell_type": "code",
   "execution_count": 3,
   "id": "64fe5f39-45a5-48b1-b046-7a48a21be966",
   "metadata": {},
   "outputs": [],
   "source": [
    "# 名寄せ先で重複削除\n",
    "fix_cus = df_customer.drop_duplicates('customer_id_nys').copy()"
   ]
  },
  {
   "cell_type": "code",
   "execution_count": 4,
   "id": "d1ce50a2-4f07-4a5c-b8dc-3dcbd128ba4e",
   "metadata": {},
   "outputs": [],
   "source": [
    "# 年代を計算\n",
    "fix_cus['kbn_age'] = fix_cus['age'].apply(lambda x: '%s代' % (int(x/10)*10))"
   ]
  },
  {
   "cell_type": "markdown",
   "id": "89c5a21b-be72-4fbc-ba93-800c37c9c8b8",
   "metadata": {},
   "source": [
    "　\n",
    " "
   ]
  },
  {
   "cell_type": "markdown",
   "id": "cd562a3e-b882-4a05-b4f8-f8d84073368c",
   "metadata": {},
   "source": [
    "# データ保存"
   ]
  },
  {
   "cell_type": "code",
   "execution_count": 5,
   "id": "c9a2898e-ae14-4fe8-bf7d-73219af67a49",
   "metadata": {},
   "outputs": [],
   "source": [
    "fix_cus.to_pickle(data_path / ('%s_fix_cus.pkl' % prefix))"
   ]
  }
 ],
 "metadata": {
  "kernelspec": {
   "display_name": "Python 3 (ipykernel)",
   "language": "python",
   "name": "python3"
  },
  "language_info": {
   "codemirror_mode": {
    "name": "ipython",
    "version": 3
   },
   "file_extension": ".py",
   "mimetype": "text/x-python",
   "name": "python",
   "nbconvert_exporter": "python",
   "pygments_lexer": "ipython3",
   "version": "3.9.6"
  }
 },
 "nbformat": 4,
 "nbformat_minor": 5
}
